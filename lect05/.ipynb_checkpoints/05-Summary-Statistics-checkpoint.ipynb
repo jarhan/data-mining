{
 "cells": [
  {
   "cell_type": "code",
   "execution_count": 1,
   "metadata": {},
   "outputs": [
    {
     "ename": "ModuleNotFoundError",
     "evalue": "No module named 'scipy'",
     "output_type": "error",
     "traceback": [
      "\u001b[0;31m---------------------------------------------------------------------------\u001b[0m",
      "\u001b[0;31mModuleNotFoundError\u001b[0m                       Traceback (most recent call last)",
      "\u001b[0;32m<ipython-input-1-4d6e0cd95399>\u001b[0m in \u001b[0;36m<module>\u001b[0;34m\u001b[0m\n\u001b[1;32m      2\u001b[0m \u001b[0;32mimport\u001b[0m \u001b[0mnumpy\u001b[0m \u001b[0;32mas\u001b[0m \u001b[0mnp\u001b[0m\u001b[0;34m\u001b[0m\u001b[0m\n\u001b[1;32m      3\u001b[0m \u001b[0;32mimport\u001b[0m \u001b[0mpandas\u001b[0m \u001b[0;32mas\u001b[0m \u001b[0mpd\u001b[0m\u001b[0;34m\u001b[0m\u001b[0m\n\u001b[0;32m----> 4\u001b[0;31m \u001b[0;32mfrom\u001b[0m \u001b[0mscipy\u001b[0m \u001b[0;32mimport\u001b[0m \u001b[0mstats\u001b[0m\u001b[0;34m\u001b[0m\u001b[0m\n\u001b[0m\u001b[1;32m      5\u001b[0m \u001b[0;32mimport\u001b[0m \u001b[0mmatplotlib\u001b[0m\u001b[0;34m.\u001b[0m\u001b[0mpyplot\u001b[0m \u001b[0;32mas\u001b[0m \u001b[0mplt\u001b[0m\u001b[0;34m\u001b[0m\u001b[0m\n\u001b[1;32m      6\u001b[0m \u001b[0mplt\u001b[0m\u001b[0;34m.\u001b[0m\u001b[0mstyle\u001b[0m\u001b[0;34m.\u001b[0m\u001b[0muse\u001b[0m\u001b[0;34m(\u001b[0m\u001b[0;34m'ggplot'\u001b[0m\u001b[0;34m)\u001b[0m\u001b[0;34m\u001b[0m\u001b[0m\n",
      "\u001b[0;31mModuleNotFoundError\u001b[0m: No module named 'scipy'"
     ]
    }
   ],
   "source": [
    "%matplotlib inline\n",
    "import numpy as np\n",
    "import pandas as pd\n",
    "from scipy import stats\n",
    "import matplotlib.pyplot as plt\n",
    "plt.style.use('ggplot')"
   ]
  },
  {
   "cell_type": "markdown",
   "metadata": {},
   "source": [
    "# Lecture 5: Summary Statistics\n",
    "\n",
    "Last update: Jan 21, 2019\n",
    "\n",
    "This week we will review of some statistics and probability theory needed for doing data analysis.\n",
    "\n",
    "We begin with summary statistics. In short, summary statistics summarize and provide information about your *sample* data. They describe the overall charactertics of your dataset such as where the average lies and whether your data is skewed, etc. We usually describe the dataset in the following dimensions:\n",
    "\n",
    "- a measure of location, or *central tendency*\n",
    "- a measure of sprea, or *dispersion*\n",
    "- a measure of the shape of the distribution like *skewness*\n",
    "\n",
    "In a way, how summary statistics characterize a dataset is similar to how Taylor's approximation characterizes a function. Breifly, central tendency is considered to be the first moment of data, dispersion is the second moment, skewness is the third moment, kurtosis is the fourth moment, etc."
   ]
  },
  {
   "cell_type": "markdown",
   "metadata": {},
   "source": [
    "First, let's do a quick survey on date-of-birth and month-of-birth of people in this class."
   ]
  },
  {
   "cell_type": "code",
   "execution_count": 3,
   "metadata": {},
   "outputs": [],
   "source": [
    "data = [\n",
    "        (10, 1),\n",
    "        (25, 3),\n",
    "        (23, 2),\n",
    "        (15, 7),\n",
    "        (22, 9),\n",
    "        (17, 9),\n",
    "        (5, 10),\n",
    "        (8, 11),\n",
    "        (30, 12)\n",
    "]\n",
    "\n",
    "dob, mob = zip(*data)"
   ]
  },
  {
   "cell_type": "markdown",
   "metadata": {},
   "source": [
    "## Central tendency\n",
    "\n",
    "A measure of central tendency is a single value that attempts to describe a set of data by identifying the central position within that set of data. As such, measures of central tendency are sometimes called measures of central location. The mean (often called the average) is most likely the measure of central tendency that you are most familiar with, but there are others, such as the median and the mode."
   ]
  },
  {
   "cell_type": "markdown",
   "metadata": {},
   "source": [
    "### Sample mean or average\n",
    "\n",
    "Sample mean, or average of a dataset usually denoted by $\\bar{x}$ and is given by:\n",
    "\n",
    "$$\\bar{x} = \\frac{\\sum_{i}^N x_i }{N}$$\n",
    "\n",
    "It can be used with both discrete and continuous data, although its use is most often with continuous data.\n",
    "Keep in mind that the sample is sensitive to **outliers**\n"
   ]
  },
  {
   "cell_type": "code",
   "execution_count": 13,
   "metadata": {},
   "outputs": [
    {
     "name": "stdout",
     "output_type": "stream",
     "text": [
      "dob_avg = 17.22222222222222\n",
      "mob_avg = 7.111111111111111\n",
      "dob_avg = 17.22222222222222\n",
      "mob_avg = 7.111111111111111\n"
     ]
    }
   ],
   "source": [
    "# mean\n",
    "dob_avg = sum(dob)/len(dob)\n",
    "mob_avg = sum(mob)/len(mob)\n",
    "print('dob_avg =', dob_avg)\n",
    "print('mob_avg =', mob_avg)\n",
    "\n",
    "\n",
    "# using numpy\n",
    "print('dob_avg =', np.mean(dob))\n",
    "print('mob_avg =', np.mean(mob))"
   ]
  },
  {
   "cell_type": "markdown",
   "metadata": {},
   "source": [
    "### Median \n",
    "\n",
    "Median is the middle value of a dataset when it is sorted. If there are odd numbers of items, take the average of the two middle ones. Unlike the sample mean, the median is less affected by outliers and skewed data."
   ]
  },
  {
   "cell_type": "code",
   "execution_count": 16,
   "metadata": {},
   "outputs": [
    {
     "name": "stdout",
     "output_type": "stream",
     "text": [
      "dob_med = 17.0\n",
      "mob_med = 9.0\n"
     ]
    }
   ],
   "source": [
    "# median\n",
    "dob_med = np.median(dob)\n",
    "mob_med = np.median(mob)\n",
    "print('dob_med =', dob_med)\n",
    "print('mob_med =', mob_med)"
   ]
  },
  {
   "cell_type": "markdown",
   "metadata": {},
   "source": [
    "### Mode\n",
    "\n",
    "The mode is the most frequent vaue in our dataset. On a histogram it represents the highest bar in a bar chart or histogram. You can, therefore, sometimes consider the mode as being the most popular option. It's common that we have multiple modes in a dataset."
   ]
  },
  {
   "cell_type": "code",
   "execution_count": 25,
   "metadata": {},
   "outputs": [],
   "source": [
    "?stats.mode"
   ]
  },
  {
   "cell_type": "code",
   "execution_count": 33,
   "metadata": {},
   "outputs": [
    {
     "name": "stdout",
     "output_type": "stream",
     "text": [
      "dob_mode= 5\n",
      "mob_mode= 9\n"
     ]
    }
   ],
   "source": [
    "# mode\n",
    "dob_mode = stats.mode(dob).mode\n",
    "mob_mode = stats.mode(mob).mode\n",
    "print('dob_mode=',dob_mode[0])\n",
    "print('mob_mode=',mob_mode[0])"
   ]
  },
  {
   "cell_type": "markdown",
   "metadata": {},
   "source": [
    "### Summary of when to use the mean, median and mode\n",
    "\n",
    "\n",
    "| Type of Variable | Best measure of central tendency |\n",
    "|------------------|----------------------------------|\n",
    "|Categorical\t|Mode |\n",
    "|Ordinal\t|Median |\n",
    "|Interval/Ratio (not skewed)\t|Mean |\n",
    "|Interval/Ratio (skewed)\t|Median |\n"
   ]
  },
  {
   "cell_type": "markdown",
   "metadata": {},
   "source": [
    "## Dispersion\n",
    "\n",
    "The term *Dispersion* refers to measures of how spread out our data is. A very simple statistics is `range` which is simply the difference between the minimum and the maximum values. Consider the following."
   ]
  },
  {
   "cell_type": "code",
   "execution_count": 35,
   "metadata": {},
   "outputs": [
    {
     "data": {
      "image/png": "[encoded data removed]",
      "text/plain": [
       "<Figure size 1080x720 with 1 Axes>"
      ]
     },
     "metadata": {},
     "output_type": "display_data"
    }
   ],
   "source": [
    "data1 = np.random.randn(100000,1)*300\n",
    "data2 = np.random.randn(100000,1)*1000\n",
    "\n",
    "plt.figure(figsize=(15,10))\n",
    "_ = plt.hist(np.hstack([data1,data2]),bins=30)"
   ]
  },
  {
   "cell_type": "markdown",
   "metadata": {},
   "source": [
    "### Range\n",
    "\n",
    "The range is the difference between the highest and lowest values in a dataset and is the simplest measure of spread. So we calculate range as:\n",
    "\n",
    "> Range = maximum value - minimum value\n"
   ]
  },
  {
   "cell_type": "code",
   "execution_count": 37,
   "metadata": {},
   "outputs": [
    {
     "name": "stdout",
     "output_type": "stream",
     "text": [
      "range of data1 =  2471.632759083134\n",
      "range of data2 =  9735.373021670683\n"
     ]
    }
   ],
   "source": [
    "range_data1 = np.max(data1) - np.min(data1)\n",
    "print(\"range of data1 = \", range_data1)\n",
    "\n",
    "range_data2 = np.max(data2) - np.min(data2)\n",
    "print(\"range of data2 = \", range_data2)"
   ]
  },
  {
   "cell_type": "markdown",
   "metadata": {},
   "source": [
    "### Quartiles and interqurtile range\n",
    "\n",
    "Quartiles tell us about the spread of a data set by breaking the data set into quarters, just like the median breaks it in half. \n",
    "\n",
    "> Interquartile range (IQR) = Q3 - Q1\n"
   ]
  },
  {
   "cell_type": "code",
   "execution_count": 40,
   "metadata": {},
   "outputs": [
    {
     "name": "stdout",
     "output_type": "stream",
     "text": [
      "IQR of data1= 405.8651185612394\n",
      "IQR of data2= 1351.7374859630627\n"
     ]
    }
   ],
   "source": [
    "iqr_data1 = np.percentile(data1,75) -  np.percentile(data1,25) \n",
    "print('IQR of data1=', iqr_data1)\n",
    "iqr_data2 = np.percentile(data2,75) -  np.percentile(data2,25) \n",
    "print('IQR of data2=', iqr_data2)"
   ]
  },
  {
   "cell_type": "markdown",
   "metadata": {},
   "source": [
    "### Variance and standard deviation\n",
    "\n",
    "Another way to quantify spread is to measure the total amount of deviation from the mean:\n",
    "\n",
    "$$\\text{variance} = \\frac{\\sum_{i=1}^{N} ({x_i} - \\bar{x})^2}{N} $$\n",
    "\n",
    "$$\\text{standard deviation} = \\sqrt{\\frac{\\sum_{i=1}^{N} ({x_i} - \\bar{x})^2}{N}} $$\n"
   ]
  },
  {
   "cell_type": "code",
   "execution_count": 45,
   "metadata": {},
   "outputs": [
    {
     "name": "stdout",
     "output_type": "stream",
     "text": [
      "variance of data1 =  90300.21182749797\n",
      "variance of data2 =  1001929.6518380472\n",
      "sd of data1 =  300.49993648501487\n",
      "sd of data2 =  1000.9643609230287\n"
     ]
    }
   ],
   "source": [
    "var_data1 = np.var(data1)\n",
    "var_data2 = np.var(data2)\n",
    "print(\"variance of data1 = \", var_data1)\n",
    "print(\"variance of data2 = \", var_data2)\n",
    "\n",
    "std_data1 = np.std(data1)\n",
    "std_data2 = np.std(data2)\n",
    "print(\"sd of data1 = \", std_data1)\n",
    "print(\"sd of data2 = \", std_data2)"
   ]
  },
  {
   "cell_type": "markdown",
   "metadata": {
    "collapsed": true
   },
   "source": [
    "## Histogram and other useful plots"
   ]
  },
  {
   "cell_type": "markdown",
   "metadata": {},
   "source": [
    "Many times, it is not enough to look at just centers and spreads. We want to also look how the data is distributed. The histogram plot is very useful for describing a single dimension of the data."
   ]
  },
  {
   "cell_type": "code",
   "execution_count": 68,
   "metadata": {},
   "outputs": [
    {
     "data": {
      "image/png": "[encoded data removed]",
      "text/plain": [
       "<Figure size 1080x720 with 1 Axes>"
      ]
     },
     "metadata": {},
     "output_type": "display_data"
    }
   ],
   "source": [
    "plt.figure(figsize=(15,10))\n",
    "(n, bins, patches) = plt.hist(dob, bins=10)"
   ]
  },
  {
   "cell_type": "code",
   "execution_count": 69,
   "metadata": {},
   "outputs": [
    {
     "data": {
      "image/png": "[encoded data removed]",
      "text/plain": [
       "<Figure size 1080x720 with 1 Axes>"
      ]
     },
     "metadata": {},
     "output_type": "display_data"
    }
   ],
   "source": [
    "plt.figure(figsize=(15,10))\n",
    "boxprops = dict(linestyle='-', linewidth=3)\n",
    "medianprops = dict(linestyle='-', linewidth=2.5, color='firebrick')\n",
    "bp =plt.boxplot([dob,mob],labels=['Dob','Mob'],showmeans=True, whis=[5,95], boxprops=boxprops,medianprops=medianprops)"
   ]
  },
  {
   "cell_type": "markdown",
   "metadata": {},
   "source": [
    "## Covariance and correlation\n",
    "\n",
    "Suppose you want to investigate relationship between two variables. Lets verify if dob and mob are somehow related. We will first check out the covariance between these two variables.\n",
    "\n",
    "$$cov(X,Y) = \\frac{\\sum_{i=1}^N (x_i - \\bar{x})(y_i - \\bar{y})}{N}$$\n",
    "\n",
    "Covariance indicates how two variables related. A positive covariance means the variables are positively related, while a negative covariance means the variables are negatively or inversely related."
   ]
  },
  {
   "cell_type": "code",
   "execution_count": 70,
   "metadata": {},
   "outputs": [
    {
     "data": {
      "text/plain": [
       "array([[71.44444444, -2.15277778],\n",
       "       [-2.15277778, 16.86111111]])"
      ]
     },
     "execution_count": 70,
     "metadata": {},
     "output_type": "execute_result"
    }
   ],
   "source": [
    "np.cov(dob, mob)"
   ]
  },
  {
   "cell_type": "markdown",
   "metadata": {},
   "source": [
    "Covariance is difficult to interpret because of they are scale-dependent. It's more common to look at the Pearson correleation coefficient.\n",
    "\n",
    ">The Pearson correlation coefficient measures the linear relationship between two datasets. Strictly speaking, Pearson’s correlation requires that each dataset be normally distributed. Like other correlation coefficients, this one varies between -1 and +1 with 0 implying no correlation. Correlations of -1 or +1 imply an exact linear relationship. Positive correlations imply that as x increases, so does y. Negative correlations imply that as x increases, y decreases.\n",
    "\n",
    "$$r(X,Y) = \\frac{Cov(X,Y)}{S_X S_Y}$$\n",
    "\n",
    "where $S_X$ and $S_Y$ are sample standard deviation of $X$ and $Y$ respectively."
   ]
  },
  {
   "cell_type": "code",
   "execution_count": 72,
   "metadata": {},
   "outputs": [
    {
     "data": {
      "text/plain": [
       "-0.06202572864638308"
      ]
     },
     "execution_count": 72,
     "metadata": {},
     "output_type": "execute_result"
    }
   ],
   "source": [
    "(r,_) = stats.pearsonr(dob, mob)\n",
    "r"
   ]
  },
  {
   "cell_type": "code",
   "execution_count": 74,
   "metadata": {},
   "outputs": [
    {
     "data": {
      "text/plain": [
       "Text(0, 0.5, 'Month')"
      ]
     },
     "execution_count": 74,
     "metadata": {},
     "output_type": "execute_result"
    },
    {
     "data": {
      "image/png": "[encoded data removed]",
      "text/plain": [
       "<Figure size 504x504 with 1 Axes>"
      ]
     },
     "metadata": {},
     "output_type": "display_data"
    }
   ],
   "source": [
    "plt.figure(figsize=(7,7))\n",
    "plt.plot(dob, mob, 'or')\n",
    "plt.xlabel('Date')\n",
    "plt.ylabel('Month')"
   ]
  },
  {
   "cell_type": "markdown",
   "metadata": {},
   "source": [
    "#### Correlation and Causation\n",
    "\n",
    "You have probably heard at some point that “correlation is not causation,” most likely by someone looking at data that posed a challenge to parts of his worldview that he was reluctant to question. Nonetheless, this is an important point—if x and y are strongly correlated, that might mean that x causes y, that y causes x, that each causes the other, that some third factor causes both, or it might mean nothing."
   ]
  },
  {
   "cell_type": "markdown",
   "metadata": {},
   "source": [
    "## Simpson's Paradox\n",
    "\n",
    "One not uncommon surprise when analyzing data is Simpson’s Paradox, in which correlations can be misleading when **confounding** variables are ignored."
   ]
  },
  {
   "cell_type": "code",
   "execution_count": 75,
   "metadata": {},
   "outputs": [],
   "source": [
    "west_phd = np.random.randn(35,1)+3.1\n",
    "east_phd = np.random.randn(70,1)+3.3\n",
    "west_nonphd = np.random.randn(66,1)+10.9\n",
    "east_nonphd = np.random.randn(33,1)+13.4"
   ]
  },
  {
   "cell_type": "code",
   "execution_count": 76,
   "metadata": {},
   "outputs": [],
   "source": [
    "west = np.concatenate([west_phd, west_nonphd],axis=0)\n",
    "east = np.concatenate([east_phd, east_nonphd],axis=0)"
   ]
  },
  {
   "cell_type": "code",
   "execution_count": 77,
   "metadata": {},
   "outputs": [
    {
     "name": "stdout",
     "output_type": "stream",
     "text": [
      "west 8.164683407569838\n",
      "east 6.57187511790177\n"
     ]
    }
   ],
   "source": [
    "print(\"west\",west.mean())\n",
    "print(\"east\",east.mean())"
   ]
  },
  {
   "cell_type": "code",
   "execution_count": 78,
   "metadata": {},
   "outputs": [
    {
     "name": "stdout",
     "output_type": "stream",
     "text": [
      "west phd 3.1274435118834782\n",
      "east phd 3.3885587360035707\n",
      "west nonphd 10.835946988615632\n",
      "east nonphd 13.32436441283735\n"
     ]
    }
   ],
   "source": [
    "print(\"west phd\",west_phd.mean())\n",
    "print(\"east phd\",east_phd.mean())\n",
    "print(\"west nonphd\",west_nonphd.mean())\n",
    "print(\"east nonphd\",east_nonphd.mean())"
   ]
  },
  {
   "cell_type": "markdown",
   "metadata": {},
   "source": [
    "## Excercise:  Tripadvisor Reviews\n",
    "\n",
    "Let's explore the following dataset:\n",
    "https://archive.ics.uci.edu/ml/datasets/Travel+Reviews\n",
    "\n",
    "Your tasks:\n",
    "1. Download the dataset\n",
    "1. Load it up as a dataframe with correct column names\n",
    "1. Explore df.describe(), df.cov(), df.corr()\n",
    "1. Create histograms of 'Average user feedback on restaurants' and 'Average user feedback on museums' (separately)\n",
    "1. Create boxplots of ALL columns\n",
    "1. Look for pairs of columns with **high** correlation (both positively and negatively)\n",
    "1. Create 2D scatter plots of such pair"
   ]
  },
  {
   "cell_type": "code",
   "execution_count": 93,
   "metadata": {},
   "outputs": [],
   "source": [
    "# Fill code here"
   ]
  },
  {
   "cell_type": "code",
   "execution_count": null,
   "metadata": {},
   "outputs": [],
   "source": []
  }
 ],
 "metadata": {
  "anaconda-cloud": {},
  "kernelspec": {
   "display_name": "Python 3",
   "language": "python",
   "name": "python3"
  },
  "language_info": {
   "codemirror_mode": {
    "name": "ipython",
    "version": 3
   },
   "file_extension": ".py",
   "mimetype": "text/x-python",
   "name": "python",
   "nbconvert_exporter": "python",
   "pygments_lexer": "ipython3",
   "version": "3.7.0"
  }
 },
 "nbformat": 4,
 "nbformat_minor": 1
}
