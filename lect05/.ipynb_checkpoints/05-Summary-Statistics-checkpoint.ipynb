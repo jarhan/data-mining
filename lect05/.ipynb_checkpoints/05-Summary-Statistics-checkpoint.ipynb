{
 "cells": [
  {
   "cell_type": "code",
   "execution_count": 2,
   "metadata": {},
   "outputs": [],
   "source": [
    "%matplotlib inline\n",
    "import numpy as np\n",
    "import pandas as pd\n",
    "from scipy import stats\n",
    "import matplotlib.pyplot as plt\n",
    "plt.style.use('ggplot')"
   ]
  },
  {
   "cell_type": "markdown",
   "metadata": {},
   "source": [
    "# Lecture 5: Summary Statistics\n",
    "\n",
    "Last update: Jan 21, 2019\n",
    "\n",
    "This week we will review of some statistics and probability theory needed for doing data analysis.\n",
    "\n",
    "We begin with summary statistics. In short, summary statistics summarize and provide information about your *sample* data. They describe the overall charactertics of your dataset such as where the average lies and whether your data is skewed, etc. We usually describe the dataset in the following dimensions:\n",
    "\n",
    "- a measure of location, or *central tendency*\n",
    "- a measure of sprea, or *dispersion*\n",
    "- a measure of the shape of the distribution like *skewness*\n",
    "\n",
    "In a way, how summary statistics characterize a dataset is similar to how Taylor's approximation characterizes a function. Breifly, central tendency is considered to be the first moment of data, dispersion is the second moment, skewness is the third moment, kurtosis is the fourth moment, etc."
   ]
  },
  {
   "cell_type": "markdown",
   "metadata": {},
   "source": [
    "First, let's do a quick survey on date-of-birth and month-of-birth of people in this class."
   ]
  },
  {
   "cell_type": "code",
   "execution_count": 2,
   "metadata": {},
   "outputs": [],
   "source": [
    "data = [\n",
    "        (10, 1),\n",
    "        (25, 3),\n",
    "        (23, 2),\n",
    "        (15, 7),\n",
    "        (22, 9),\n",
    "        (17, 9),\n",
    "        (5, 10),\n",
    "        (8, 11),\n",
    "        (30, 12)\n",
    "]\n",
    "\n",
    "dob, mob = zip(*data)"
   ]
  },
  {
   "cell_type": "markdown",
   "metadata": {},
   "source": [
    "## Central tendency\n",
    "\n",
    "A measure of central tendency is a single value that attempts to describe a set of data by identifying the central position within that set of data. As such, measures of central tendency are sometimes called measures of central location. The mean (often called the average) is most likely the measure of central tendency that you are most familiar with, but there are others, such as the median and the mode."
   ]
  },
  {
   "cell_type": "markdown",
   "metadata": {},
   "source": [
    "### Sample mean or average\n",
    "\n",
    "Sample mean, or average of a dataset usually denoted by $\\bar{x}$ and is given by:\n",
    "\n",
    "$$\\bar{x} = \\frac{\\sum_{i}^N x_i }{N}$$\n",
    "\n",
    "It can be used with both discrete and continuous data, although its use is most often with continuous data.\n",
    "Keep in mind that the sample is sensitive to **outliers**\n"
   ]
  },
  {
   "cell_type": "code",
   "execution_count": 3,
   "metadata": {},
   "outputs": [
    {
     "name": "stdout",
     "output_type": "stream",
     "text": [
      "dob_avg = 17.22222222222222\n",
      "mob_avg = 7.111111111111111\n",
      "dob_avg = 17.22222222222222\n",
      "mob_avg = 7.111111111111111\n"
     ]
    }
   ],
   "source": [
    "# mean\n",
    "dob_avg = sum(dob)/len(dob)\n",
    "mob_avg = sum(mob)/len(mob)\n",
    "print('dob_avg =', dob_avg)\n",
    "print('mob_avg =', mob_avg)\n",
    "\n",
    "\n",
    "# using numpy\n",
    "print('dob_avg =', np.mean(dob))\n",
    "print('mob_avg =', np.mean(mob))"
   ]
  },
  {
   "cell_type": "markdown",
   "metadata": {},
   "source": [
    "### Median \n",
    "\n",
    "Median is the middle value of a dataset when it is sorted. If there are odd numbers of items, take the average of the two middle ones. Unlike the sample mean, the median is less affected by outliers and skewed data."
   ]
  },
  {
   "cell_type": "code",
   "execution_count": 4,
   "metadata": {},
   "outputs": [
    {
     "name": "stdout",
     "output_type": "stream",
     "text": [
      "dob_med = 17.0\n",
      "mob_med = 9.0\n"
     ]
    }
   ],
   "source": [
    "# median\n",
    "dob_med = np.median(dob)\n",
    "mob_med = np.median(mob)\n",
    "print('dob_med =', dob_med)\n",
    "print('mob_med =', mob_med)"
   ]
  },
  {
   "cell_type": "markdown",
   "metadata": {},
   "source": [
    "### Mode\n",
    "\n",
    "The mode is the most frequent vaue in our dataset. On a histogram it represents the highest bar in a bar chart or histogram. You can, therefore, sometimes consider the mode as being the most popular option. It's common that we have multiple modes in a dataset."
   ]
  },
  {
   "cell_type": "code",
   "execution_count": 5,
   "metadata": {},
   "outputs": [],
   "source": [
    "?stats.mode"
   ]
  },
  {
   "cell_type": "code",
   "execution_count": 6,
   "metadata": {},
   "outputs": [
    {
     "name": "stdout",
     "output_type": "stream",
     "text": [
      "dob_mode= 5\n",
      "mob_mode= 9\n"
     ]
    }
   ],
   "source": [
    "# mode\n",
    "dob_mode = stats.mode(dob).mode\n",
    "mob_mode = stats.mode(mob).mode\n",
    "print('dob_mode=',dob_mode[0])\n",
    "print('mob_mode=',mob_mode[0])"
   ]
  },
  {
   "cell_type": "markdown",
   "metadata": {},
   "source": [
    "### Summary of when to use the mean, median and mode\n",
    "\n",
    "\n",
    "| Type of Variable | Best measure of central tendency |\n",
    "|------------------|----------------------------------|\n",
    "|Categorical\t|Mode |\n",
    "|Ordinal\t|Median |\n",
    "|Interval/Ratio (not skewed)\t|Mean |\n",
    "|Interval/Ratio (skewed)\t|Median |\n"
   ]
  },
  {
   "cell_type": "markdown",
   "metadata": {},
   "source": [
    "## Dispersion\n",
    "\n",
    "The term *Dispersion* refers to measures of how spread out our data is. A very simple statistics is `range` which is simply the difference between the minimum and the maximum values. Consider the following."
   ]
  },
  {
   "cell_type": "code",
   "execution_count": 7,
   "metadata": {},
   "outputs": [
    {
     "data": {
      "image/png": "[encoded data removed]",
      "text/plain": [
       "<Figure size 1080x720 with 1 Axes>"
      ]
     },
     "metadata": {
      "needs_background": "light"
     },
     "output_type": "display_data"
    }
   ],
   "source": [
    "data1 = np.random.randn(100000,1)*300\n",
    "data2 = np.random.randn(100000,1)*1000\n",
    "\n",
    "plt.figure(figsize=(15,10))\n",
    "_ = plt.hist(np.hstack([data1,data2]),bins=30)"
   ]
  },
  {
   "cell_type": "markdown",
   "metadata": {},
   "source": [
    "### Range\n",
    "\n",
    "The range is the difference between the highest and lowest values in a dataset and is the simplest measure of spread. So we calculate range as:\n",
    "\n",
    "> Range = maximum value - minimum value\n"
   ]
  },
  {
   "cell_type": "code",
   "execution_count": 8,
   "metadata": {},
   "outputs": [
    {
     "name": "stdout",
     "output_type": "stream",
     "text": [
      "range of data1 =  2739.5917874212173\n",
      "range of data2 =  8691.407601668729\n"
     ]
    }
   ],
   "source": [
    "range_data1 = np.max(data1) - np.min(data1)\n",
    "print(\"range of data1 = \", range_data1)\n",
    "\n",
    "range_data2 = np.max(data2) - np.min(data2)\n",
    "print(\"range of data2 = \", range_data2)"
   ]
  },
  {
   "cell_type": "markdown",
   "metadata": {},
   "source": [
    "### Quartiles and interqurtile range\n",
    "\n",
    "Quartiles tell us about the spread of a data set by breaking the data set into quarters, just like the median breaks it in half. \n",
    "\n",
    "> Interquartile range (IQR) = Q3 - Q1\n"
   ]
  },
  {
   "cell_type": "code",
   "execution_count": 9,
   "metadata": {},
   "outputs": [
    {
     "name": "stdout",
     "output_type": "stream",
     "text": [
      "IQR of data1= 405.5535405320483\n",
      "IQR of data2= 1348.5069005905543\n"
     ]
    }
   ],
   "source": [
    "iqr_data1 = np.percentile(data1,75) -  np.percentile(data1,25) \n",
    "print('IQR of data1=', iqr_data1)\n",
    "iqr_data2 = np.percentile(data2,75) -  np.percentile(data2,25) \n",
    "print('IQR of data2=', iqr_data2)"
   ]
  },
  {
   "cell_type": "markdown",
   "metadata": {},
   "source": [
    "### Variance and standard deviation\n",
    "\n",
    "Another way to quantify spread is to measure the total amount of deviation from the mean:\n",
    "\n",
    "$$\\text{variance} = \\frac{\\sum_{i=1}^{N} ({x_i} - \\bar{x})^2}{N} $$\n",
    "\n",
    "$$\\text{standard deviation} = \\sqrt{\\frac{\\sum_{i=1}^{N} ({x_i} - \\bar{x})^2}{N}} $$\n"
   ]
  },
  {
   "cell_type": "code",
   "execution_count": 10,
   "metadata": {},
   "outputs": [
    {
     "name": "stdout",
     "output_type": "stream",
     "text": [
      "variance of data1 =  89975.24927998216\n",
      "variance of data2 =  1000720.3237760093\n",
      "sd of data1 =  299.9587459634777\n",
      "sd of data2 =  1000.3600970530608\n"
     ]
    }
   ],
   "source": [
    "var_data1 = np.var(data1)\n",
    "var_data2 = np.var(data2)\n",
    "print(\"variance of data1 = \", var_data1)\n",
    "print(\"variance of data2 = \", var_data2)\n",
    "\n",
    "std_data1 = np.std(data1)\n",
    "std_data2 = np.std(data2)\n",
    "print(\"sd of data1 = \", std_data1)\n",
    "print(\"sd of data2 = \", std_data2)"
   ]
  },
  {
   "cell_type": "markdown",
   "metadata": {
    "collapsed": true
   },
   "source": [
    "## Histogram and other useful plots"
   ]
  },
  {
   "cell_type": "markdown",
   "metadata": {},
   "source": [
    "Many times, it is not enough to look at just centers and spreads. We want to also look how the data is distributed. The histogram plot is very useful for describing a single dimension of the data."
   ]
  },
  {
   "cell_type": "code",
   "execution_count": 23,
   "metadata": {},
   "outputs": [
    {
     "data": {
      "image/png": "[encoded data removed]",
      "text/plain": [
       "<Figure size 1080x720 with 1 Axes>"
      ]
     },
     "metadata": {
      "needs_background": "light"
     },
     "output_type": "display_data"
    }
   ],
   "source": [
    "plt.figure(figsize=(15,10))\n",
    "(n, bins, patches) = plt.hist(dob, bins=10)"
   ]
  },
  {
   "cell_type": "code",
   "execution_count": 25,
   "metadata": {},
   "outputs": [
    {
     "data": {
      "image/png": "[encoded data removed]",
      "text/plain": [
       "<Figure size 1080x720 with 1 Axes>"
      ]
     },
     "metadata": {
      "needs_background": "light"
     },
     "output_type": "display_data"
    }
   ],
   "source": [
    "plt.figure(figsize=(15,10))\n",
    "boxprops = dict(linestyle='-', linewidth=3)\n",
    "medianprops = dict(linestyle='-', linewidth=2.5, color='firebrick')\n",
    "bp =plt.boxplot([dob,mob],labels=['Dob','Mob'],showmeans=True, whis=[5,95], boxprops=boxprops,medianprops=medianprops)"
   ]
  },
  {
   "cell_type": "markdown",
   "metadata": {},
   "source": [
    "## Covariance and correlation\n",
    "\n",
    "Suppose you want to investigate relationship between two variables. Lets verify if dob and mob are somehow related. We will first check out the covariance between these two variables.\n",
    "\n",
    "$$cov(X,Y) = \\frac{\\sum_{i=1}^N (x_i - \\bar{x})(y_i - \\bar{y})}{N}$$\n",
    "\n",
    "Covariance indicates how two variables related. A positive covariance means the variables are positively related, while a negative covariance means the variables are negatively or inversely related."
   ]
  },
  {
   "cell_type": "code",
   "execution_count": 26,
   "metadata": {},
   "outputs": [
    {
     "data": {
      "text/plain": [
       "array([[71.44444444, -2.15277778],\n",
       "       [-2.15277778, 16.86111111]])"
      ]
     },
     "execution_count": 26,
     "metadata": {},
     "output_type": "execute_result"
    }
   ],
   "source": [
    "np.cov(dob, mob)\n",
    "# cov(X,Y) = cov(Y,X)\n",
    "# var(x) = cov(X,X)"
   ]
  },
  {
   "cell_type": "markdown",
   "metadata": {},
   "source": [
    "Covariance is difficult to interpret because of they are scale-dependent. It's more common to look at the Pearson correleation coefficient.\n",
    "\n",
    ">The Pearson correlation coefficient measures the linear relationship between two datasets. Strictly speaking, Pearson’s correlation requires that each dataset be normally distributed. Like other correlation coefficients, this one varies between -1 and +1 with 0 implying no correlation. Correlations of -1 or +1 imply an exact linear relationship. Positive correlations imply that as x increases, so does y. Negative correlations imply that as x increases, y decreases.\n",
    "\n",
    "$$r(X,Y) = \\frac{Cov(X,Y)}{S_X S_Y}$$\n",
    "\n",
    "where $S_X$ and $S_Y$ are sample standard deviation of $X$ and $Y$ respectively."
   ]
  },
  {
   "cell_type": "code",
   "execution_count": 27,
   "metadata": {},
   "outputs": [
    {
     "data": {
      "text/plain": [
       "-0.06202572864638308"
      ]
     },
     "execution_count": 27,
     "metadata": {},
     "output_type": "execute_result"
    }
   ],
   "source": [
    "(r,_) = stats.pearsonr(dob, mob)\n",
    "r"
   ]
  },
  {
   "cell_type": "code",
   "execution_count": 28,
   "metadata": {},
   "outputs": [
    {
     "data": {
      "text/plain": [
       "Text(0, 0.5, 'Month')"
      ]
     },
     "execution_count": 28,
     "metadata": {},
     "output_type": "execute_result"
    },
    {
     "data": {
      "image/png": "[encoded data removed]",
      "text/plain": [
       "<Figure size 504x504 with 1 Axes>"
      ]
     },
     "metadata": {
      "needs_background": "light"
     },
     "output_type": "display_data"
    }
   ],
   "source": [
    "plt.figure(figsize=(7,7))\n",
    "plt.plot(dob, mob, 'or')\n",
    "plt.xlabel('Date')\n",
    "plt.ylabel('Month')"
   ]
  },
  {
   "cell_type": "markdown",
   "metadata": {},
   "source": [
    "#### Correlation and Causation\n",
    "\n",
    "You have probably heard at some point that “correlation is not causation,” most likely by someone looking at data that posed a challenge to parts of his worldview that he was reluctant to question. Nonetheless, this is an important point—if x and y are strongly correlated, that might mean that x causes y, that y causes x, that each causes the other, that some third factor causes both, or it might mean nothing."
   ]
  },
  {
   "cell_type": "markdown",
   "metadata": {},
   "source": [
    "## Simpson's Paradox\n",
    "\n",
    "One not uncommon surprise when analyzing data is Simpson’s Paradox, in which correlations can be misleading when **confounding** variables are ignored."
   ]
  },
  {
   "cell_type": "code",
   "execution_count": 29,
   "metadata": {},
   "outputs": [],
   "source": [
    "west_phd = np.random.randn(35,1)+3.1\n",
    "east_phd = np.random.randn(70,1)+3.3\n",
    "west_nonphd = np.random.randn(66,1)+10.9\n",
    "east_nonphd = np.random.randn(33,1)+13.4"
   ]
  },
  {
   "cell_type": "code",
   "execution_count": 30,
   "metadata": {},
   "outputs": [],
   "source": [
    "west = np.concatenate([west_phd, west_nonphd],axis=0)\n",
    "east = np.concatenate([east_phd, east_nonphd],axis=0)"
   ]
  },
  {
   "cell_type": "code",
   "execution_count": 31,
   "metadata": {},
   "outputs": [
    {
     "name": "stdout",
     "output_type": "stream",
     "text": [
      "west 8.306671272582099\n",
      "east 6.5070152420125\n"
     ]
    }
   ],
   "source": [
    "print(\"west\",west.mean())\n",
    "print(\"east\",east.mean())"
   ]
  },
  {
   "cell_type": "code",
   "execution_count": 32,
   "metadata": {},
   "outputs": [
    {
     "name": "stdout",
     "output_type": "stream",
     "text": [
      "west phd 3.357672674884137\n",
      "east phd 3.293925294141888\n",
      "west nonphd 10.931140225906775\n",
      "east nonphd 13.322660585980469\n"
     ]
    }
   ],
   "source": [
    "print(\"west phd\",west_phd.mean())\n",
    "print(\"east phd\",east_phd.mean())\n",
    "print(\"west nonphd\",west_nonphd.mean())\n",
    "print(\"east nonphd\",east_nonphd.mean())"
   ]
  },
  {
   "cell_type": "markdown",
   "metadata": {},
   "source": [
    "## Excercise:  Tripadvisor Reviews\n",
    "\n",
    "Let's explore the following dataset:\n",
    "https://archive.ics.uci.edu/ml/datasets/Travel+Reviews\n",
    "\n",
    "Your tasks:\n",
    "1. Download the dataset\n",
    "1. Load it up as a dataframe with correct column names\n",
    "1. Explore df.describe(), df.cov(), df.corr()\n",
    "1. Create histograms of 'Average user feedback on restaurants' and 'Average user feedback on museums' (separately)\n",
    "1. Create boxplots of ALL columns\n",
    "1. Look for pairs of columns with **high** correlation (both positively and negatively)\n",
    "1. Create 2D scatter plots of such pair"
   ]
  },
  {
   "cell_type": "code",
   "execution_count": 50,
   "metadata": {},
   "outputs": [
    {
     "data": {
      "text/html": [
       "<div>\n",
       "<style scoped>\n",
       "    .dataframe tbody tr th:only-of-type {\n",
       "        vertical-align: middle;\n",
       "    }\n",
       "\n",
       "    .dataframe tbody tr th {\n",
       "        vertical-align: top;\n",
       "    }\n",
       "\n",
       "    .dataframe thead th {\n",
       "        text-align: right;\n",
       "    }\n",
       "</style>\n",
       "<table border=\"1\" class=\"dataframe\">\n",
       "  <thead>\n",
       "    <tr style=\"text-align: right;\">\n",
       "      <th></th>\n",
       "      <th>art galleries</th>\n",
       "      <th>dance clubs</th>\n",
       "      <th>juice bars</th>\n",
       "      <th>restaurants</th>\n",
       "      <th>museums</th>\n",
       "      <th>resorts</th>\n",
       "      <th>parks/picnic spots</th>\n",
       "      <th>beaches</th>\n",
       "      <th>theaters</th>\n",
       "      <th>religious institutions</th>\n",
       "    </tr>\n",
       "  </thead>\n",
       "  <tbody>\n",
       "    <tr>\n",
       "      <th>0</th>\n",
       "      <td>0.93</td>\n",
       "      <td>1.8</td>\n",
       "      <td>2.29</td>\n",
       "      <td>0.62</td>\n",
       "      <td>0.80</td>\n",
       "      <td>2.42</td>\n",
       "      <td>3.19</td>\n",
       "      <td>2.79</td>\n",
       "      <td>1.82</td>\n",
       "      <td>2.42</td>\n",
       "    </tr>\n",
       "    <tr>\n",
       "      <th>1</th>\n",
       "      <td>1.02</td>\n",
       "      <td>2.2</td>\n",
       "      <td>2.66</td>\n",
       "      <td>0.64</td>\n",
       "      <td>1.42</td>\n",
       "      <td>3.18</td>\n",
       "      <td>3.21</td>\n",
       "      <td>2.63</td>\n",
       "      <td>1.86</td>\n",
       "      <td>2.32</td>\n",
       "    </tr>\n",
       "    <tr>\n",
       "      <th>2</th>\n",
       "      <td>1.22</td>\n",
       "      <td>0.8</td>\n",
       "      <td>0.54</td>\n",
       "      <td>0.53</td>\n",
       "      <td>0.24</td>\n",
       "      <td>1.54</td>\n",
       "      <td>3.18</td>\n",
       "      <td>2.80</td>\n",
       "      <td>1.31</td>\n",
       "      <td>2.50</td>\n",
       "    </tr>\n",
       "    <tr>\n",
       "      <th>3</th>\n",
       "      <td>0.45</td>\n",
       "      <td>1.8</td>\n",
       "      <td>0.29</td>\n",
       "      <td>0.57</td>\n",
       "      <td>0.46</td>\n",
       "      <td>1.52</td>\n",
       "      <td>3.18</td>\n",
       "      <td>2.96</td>\n",
       "      <td>1.57</td>\n",
       "      <td>2.86</td>\n",
       "    </tr>\n",
       "    <tr>\n",
       "      <th>4</th>\n",
       "      <td>0.51</td>\n",
       "      <td>1.2</td>\n",
       "      <td>1.18</td>\n",
       "      <td>0.57</td>\n",
       "      <td>1.54</td>\n",
       "      <td>2.02</td>\n",
       "      <td>3.18</td>\n",
       "      <td>2.78</td>\n",
       "      <td>1.18</td>\n",
       "      <td>2.54</td>\n",
       "    </tr>\n",
       "  </tbody>\n",
       "</table>\n",
       "</div>"
      ],
      "text/plain": [
       "   art galleries  dance clubs  juice bars  restaurants  museums  resorts  \\\n",
       "0           0.93          1.8        2.29         0.62     0.80     2.42   \n",
       "1           1.02          2.2        2.66         0.64     1.42     3.18   \n",
       "2           1.22          0.8        0.54         0.53     0.24     1.54   \n",
       "3           0.45          1.8        0.29         0.57     0.46     1.52   \n",
       "4           0.51          1.2        1.18         0.57     1.54     2.02   \n",
       "\n",
       "   parks/picnic spots  beaches  theaters  religious institutions  \n",
       "0                3.19     2.79      1.82                    2.42  \n",
       "1                3.21     2.63      1.86                    2.32  \n",
       "2                3.18     2.80      1.31                    2.50  \n",
       "3                3.18     2.96      1.57                    2.86  \n",
       "4                3.18     2.78      1.18                    2.54  "
      ]
     },
     "execution_count": 50,
     "metadata": {},
     "output_type": "execute_result"
    }
   ],
   "source": [
    "# !wget https://archive.ics.uci.edu/ml/machine-learning-databases/00484/tripadvisor_review.csv\n",
    "df = pd.read_csv(\"tripadvisor_review.csv\",\n",
    "                 names=['Unique user id',\n",
    "                        'art galleries',\n",
    "'dance clubs',\n",
    "'juice bars',\n",
    "'restaurants',\n",
    "'museums',\n",
    "'resorts',\n",
    "'parks/picnic spots',\n",
    "'beaches',\n",
    "'theaters',\n",
    "'religious institutions'],\n",
    "                skiprows=[0])\n",
    "df = df.drop(columns=['Unique user id'])\n",
    "df.head()"
   ]
  },
  {
   "cell_type": "code",
   "execution_count": 51,
   "metadata": {},
   "outputs": [
    {
     "data": {
      "text/html": [
       "<div>\n",
       "<style scoped>\n",
       "    .dataframe tbody tr th:only-of-type {\n",
       "        vertical-align: middle;\n",
       "    }\n",
       "\n",
       "    .dataframe tbody tr th {\n",
       "        vertical-align: top;\n",
       "    }\n",
       "\n",
       "    .dataframe thead th {\n",
       "        text-align: right;\n",
       "    }\n",
       "</style>\n",
       "<table border=\"1\" class=\"dataframe\">\n",
       "  <thead>\n",
       "    <tr style=\"text-align: right;\">\n",
       "      <th></th>\n",
       "      <th>art galleries</th>\n",
       "      <th>dance clubs</th>\n",
       "      <th>juice bars</th>\n",
       "      <th>restaurants</th>\n",
       "      <th>museums</th>\n",
       "      <th>resorts</th>\n",
       "      <th>parks/picnic spots</th>\n",
       "      <th>beaches</th>\n",
       "      <th>theaters</th>\n",
       "      <th>religious institutions</th>\n",
       "    </tr>\n",
       "  </thead>\n",
       "  <tbody>\n",
       "    <tr>\n",
       "      <th>count</th>\n",
       "      <td>980.000000</td>\n",
       "      <td>980.000000</td>\n",
       "      <td>980.000000</td>\n",
       "      <td>980.000000</td>\n",
       "      <td>980.000000</td>\n",
       "      <td>980.000000</td>\n",
       "      <td>980.000000</td>\n",
       "      <td>980.000000</td>\n",
       "      <td>980.000000</td>\n",
       "      <td>980.000000</td>\n",
       "    </tr>\n",
       "    <tr>\n",
       "      <th>mean</th>\n",
       "      <td>0.893194</td>\n",
       "      <td>1.352612</td>\n",
       "      <td>1.013306</td>\n",
       "      <td>0.532500</td>\n",
       "      <td>0.939735</td>\n",
       "      <td>1.842898</td>\n",
       "      <td>3.180939</td>\n",
       "      <td>2.835061</td>\n",
       "      <td>1.569439</td>\n",
       "      <td>2.799224</td>\n",
       "    </tr>\n",
       "    <tr>\n",
       "      <th>std</th>\n",
       "      <td>0.326912</td>\n",
       "      <td>0.478280</td>\n",
       "      <td>0.788607</td>\n",
       "      <td>0.279731</td>\n",
       "      <td>0.437430</td>\n",
       "      <td>0.539538</td>\n",
       "      <td>0.007824</td>\n",
       "      <td>0.137505</td>\n",
       "      <td>0.364629</td>\n",
       "      <td>0.321380</td>\n",
       "    </tr>\n",
       "    <tr>\n",
       "      <th>min</th>\n",
       "      <td>0.340000</td>\n",
       "      <td>0.000000</td>\n",
       "      <td>0.130000</td>\n",
       "      <td>0.150000</td>\n",
       "      <td>0.060000</td>\n",
       "      <td>0.140000</td>\n",
       "      <td>3.160000</td>\n",
       "      <td>2.420000</td>\n",
       "      <td>0.740000</td>\n",
       "      <td>2.140000</td>\n",
       "    </tr>\n",
       "    <tr>\n",
       "      <th>25%</th>\n",
       "      <td>0.670000</td>\n",
       "      <td>1.080000</td>\n",
       "      <td>0.270000</td>\n",
       "      <td>0.410000</td>\n",
       "      <td>0.640000</td>\n",
       "      <td>1.460000</td>\n",
       "      <td>3.180000</td>\n",
       "      <td>2.740000</td>\n",
       "      <td>1.310000</td>\n",
       "      <td>2.540000</td>\n",
       "    </tr>\n",
       "    <tr>\n",
       "      <th>50%</th>\n",
       "      <td>0.830000</td>\n",
       "      <td>1.280000</td>\n",
       "      <td>0.820000</td>\n",
       "      <td>0.500000</td>\n",
       "      <td>0.900000</td>\n",
       "      <td>1.800000</td>\n",
       "      <td>3.180000</td>\n",
       "      <td>2.820000</td>\n",
       "      <td>1.540000</td>\n",
       "      <td>2.780000</td>\n",
       "    </tr>\n",
       "    <tr>\n",
       "      <th>75%</th>\n",
       "      <td>1.020000</td>\n",
       "      <td>1.560000</td>\n",
       "      <td>1.572500</td>\n",
       "      <td>0.580000</td>\n",
       "      <td>1.200000</td>\n",
       "      <td>2.200000</td>\n",
       "      <td>3.180000</td>\n",
       "      <td>2.910000</td>\n",
       "      <td>1.760000</td>\n",
       "      <td>3.040000</td>\n",
       "    </tr>\n",
       "    <tr>\n",
       "      <th>max</th>\n",
       "      <td>3.220000</td>\n",
       "      <td>3.640000</td>\n",
       "      <td>3.620000</td>\n",
       "      <td>3.440000</td>\n",
       "      <td>3.300000</td>\n",
       "      <td>3.760000</td>\n",
       "      <td>3.210000</td>\n",
       "      <td>3.390000</td>\n",
       "      <td>3.170000</td>\n",
       "      <td>3.660000</td>\n",
       "    </tr>\n",
       "  </tbody>\n",
       "</table>\n",
       "</div>"
      ],
      "text/plain": [
       "       art galleries  dance clubs  juice bars  restaurants     museums  \\\n",
       "count     980.000000   980.000000  980.000000   980.000000  980.000000   \n",
       "mean        0.893194     1.352612    1.013306     0.532500    0.939735   \n",
       "std         0.326912     0.478280    0.788607     0.279731    0.437430   \n",
       "min         0.340000     0.000000    0.130000     0.150000    0.060000   \n",
       "25%         0.670000     1.080000    0.270000     0.410000    0.640000   \n",
       "50%         0.830000     1.280000    0.820000     0.500000    0.900000   \n",
       "75%         1.020000     1.560000    1.572500     0.580000    1.200000   \n",
       "max         3.220000     3.640000    3.620000     3.440000    3.300000   \n",
       "\n",
       "          resorts  parks/picnic spots     beaches    theaters  \\\n",
       "count  980.000000          980.000000  980.000000  980.000000   \n",
       "mean     1.842898            3.180939    2.835061    1.569439   \n",
       "std      0.539538            0.007824    0.137505    0.364629   \n",
       "min      0.140000            3.160000    2.420000    0.740000   \n",
       "25%      1.460000            3.180000    2.740000    1.310000   \n",
       "50%      1.800000            3.180000    2.820000    1.540000   \n",
       "75%      2.200000            3.180000    2.910000    1.760000   \n",
       "max      3.760000            3.210000    3.390000    3.170000   \n",
       "\n",
       "       religious institutions  \n",
       "count              980.000000  \n",
       "mean                 2.799224  \n",
       "std                  0.321380  \n",
       "min                  2.140000  \n",
       "25%                  2.540000  \n",
       "50%                  2.780000  \n",
       "75%                  3.040000  \n",
       "max                  3.660000  "
      ]
     },
     "execution_count": 51,
     "metadata": {},
     "output_type": "execute_result"
    }
   ],
   "source": [
    "df.describe()"
   ]
  },
  {
   "cell_type": "code",
   "execution_count": 52,
   "metadata": {},
   "outputs": [
    {
     "data": {
      "text/html": [
       "<div>\n",
       "<style scoped>\n",
       "    .dataframe tbody tr th:only-of-type {\n",
       "        vertical-align: middle;\n",
       "    }\n",
       "\n",
       "    .dataframe tbody tr th {\n",
       "        vertical-align: top;\n",
       "    }\n",
       "\n",
       "    .dataframe thead th {\n",
       "        text-align: right;\n",
       "    }\n",
       "</style>\n",
       "<table border=\"1\" class=\"dataframe\">\n",
       "  <thead>\n",
       "    <tr style=\"text-align: right;\">\n",
       "      <th></th>\n",
       "      <th>art galleries</th>\n",
       "      <th>dance clubs</th>\n",
       "      <th>juice bars</th>\n",
       "      <th>restaurants</th>\n",
       "      <th>museums</th>\n",
       "      <th>resorts</th>\n",
       "      <th>parks/picnic spots</th>\n",
       "      <th>beaches</th>\n",
       "      <th>theaters</th>\n",
       "      <th>religious institutions</th>\n",
       "    </tr>\n",
       "  </thead>\n",
       "  <tbody>\n",
       "    <tr>\n",
       "      <th>art galleries</th>\n",
       "      <td>0.106872</td>\n",
       "      <td>-0.029347</td>\n",
       "      <td>0.002220</td>\n",
       "      <td>0.006717</td>\n",
       "      <td>-0.014369</td>\n",
       "      <td>0.016605</td>\n",
       "      <td>-0.000032</td>\n",
       "      <td>0.000900</td>\n",
       "      <td>-0.005640</td>\n",
       "      <td>0.005327</td>\n",
       "    </tr>\n",
       "    <tr>\n",
       "      <th>dance clubs</th>\n",
       "      <td>-0.029347</td>\n",
       "      <td>0.228752</td>\n",
       "      <td>0.016440</td>\n",
       "      <td>0.017610</td>\n",
       "      <td>0.025028</td>\n",
       "      <td>0.038296</td>\n",
       "      <td>0.000412</td>\n",
       "      <td>-0.010433</td>\n",
       "      <td>0.012791</td>\n",
       "      <td>-0.010108</td>\n",
       "    </tr>\n",
       "    <tr>\n",
       "      <th>juice bars</th>\n",
       "      <td>0.002220</td>\n",
       "      <td>0.016440</td>\n",
       "      <td>0.621901</td>\n",
       "      <td>0.013485</td>\n",
       "      <td>0.097164</td>\n",
       "      <td>0.151657</td>\n",
       "      <td>0.004632</td>\n",
       "      <td>-0.018755</td>\n",
       "      <td>-0.024567</td>\n",
       "      <td>-0.111652</td>\n",
       "    </tr>\n",
       "    <tr>\n",
       "      <th>restaurants</th>\n",
       "      <td>0.006717</td>\n",
       "      <td>0.017610</td>\n",
       "      <td>0.013485</td>\n",
       "      <td>0.078250</td>\n",
       "      <td>0.012466</td>\n",
       "      <td>0.032580</td>\n",
       "      <td>0.000500</td>\n",
       "      <td>-0.003984</td>\n",
       "      <td>0.002720</td>\n",
       "      <td>-0.031727</td>\n",
       "    </tr>\n",
       "    <tr>\n",
       "      <th>museums</th>\n",
       "      <td>-0.014369</td>\n",
       "      <td>0.025028</td>\n",
       "      <td>0.097164</td>\n",
       "      <td>0.012466</td>\n",
       "      <td>0.191345</td>\n",
       "      <td>0.137194</td>\n",
       "      <td>0.000795</td>\n",
       "      <td>-0.001261</td>\n",
       "      <td>0.006650</td>\n",
       "      <td>-0.034790</td>\n",
       "    </tr>\n",
       "    <tr>\n",
       "      <th>resorts</th>\n",
       "      <td>0.016605</td>\n",
       "      <td>0.038296</td>\n",
       "      <td>0.151657</td>\n",
       "      <td>0.032580</td>\n",
       "      <td>0.137194</td>\n",
       "      <td>0.291101</td>\n",
       "      <td>0.001818</td>\n",
       "      <td>0.000005</td>\n",
       "      <td>0.018967</td>\n",
       "      <td>-0.075966</td>\n",
       "    </tr>\n",
       "    <tr>\n",
       "      <th>parks/picnic spots</th>\n",
       "      <td>-0.000032</td>\n",
       "      <td>0.000412</td>\n",
       "      <td>0.004632</td>\n",
       "      <td>0.000500</td>\n",
       "      <td>0.000795</td>\n",
       "      <td>0.001818</td>\n",
       "      <td>0.000061</td>\n",
       "      <td>-0.000078</td>\n",
       "      <td>0.000242</td>\n",
       "      <td>-0.001787</td>\n",
       "    </tr>\n",
       "    <tr>\n",
       "      <th>beaches</th>\n",
       "      <td>0.000900</td>\n",
       "      <td>-0.010433</td>\n",
       "      <td>-0.018755</td>\n",
       "      <td>-0.003984</td>\n",
       "      <td>-0.001261</td>\n",
       "      <td>0.000005</td>\n",
       "      <td>-0.000078</td>\n",
       "      <td>0.018908</td>\n",
       "      <td>0.008508</td>\n",
       "      <td>0.005069</td>\n",
       "    </tr>\n",
       "    <tr>\n",
       "      <th>theaters</th>\n",
       "      <td>-0.005640</td>\n",
       "      <td>0.012791</td>\n",
       "      <td>-0.024567</td>\n",
       "      <td>0.002720</td>\n",
       "      <td>0.006650</td>\n",
       "      <td>0.018967</td>\n",
       "      <td>0.000242</td>\n",
       "      <td>0.008508</td>\n",
       "      <td>0.132955</td>\n",
       "      <td>-0.005353</td>\n",
       "    </tr>\n",
       "    <tr>\n",
       "      <th>religious institutions</th>\n",
       "      <td>0.005327</td>\n",
       "      <td>-0.010108</td>\n",
       "      <td>-0.111652</td>\n",
       "      <td>-0.031727</td>\n",
       "      <td>-0.034790</td>\n",
       "      <td>-0.075966</td>\n",
       "      <td>-0.001787</td>\n",
       "      <td>0.005069</td>\n",
       "      <td>-0.005353</td>\n",
       "      <td>0.103285</td>\n",
       "    </tr>\n",
       "  </tbody>\n",
       "</table>\n",
       "</div>"
      ],
      "text/plain": [
       "                        art galleries  dance clubs  juice bars  restaurants  \\\n",
       "art galleries                0.106872    -0.029347    0.002220     0.006717   \n",
       "dance clubs                 -0.029347     0.228752    0.016440     0.017610   \n",
       "juice bars                   0.002220     0.016440    0.621901     0.013485   \n",
       "restaurants                  0.006717     0.017610    0.013485     0.078250   \n",
       "museums                     -0.014369     0.025028    0.097164     0.012466   \n",
       "resorts                      0.016605     0.038296    0.151657     0.032580   \n",
       "parks/picnic spots          -0.000032     0.000412    0.004632     0.000500   \n",
       "beaches                      0.000900    -0.010433   -0.018755    -0.003984   \n",
       "theaters                    -0.005640     0.012791   -0.024567     0.002720   \n",
       "religious institutions       0.005327    -0.010108   -0.111652    -0.031727   \n",
       "\n",
       "                         museums   resorts  parks/picnic spots   beaches  \\\n",
       "art galleries          -0.014369  0.016605           -0.000032  0.000900   \n",
       "dance clubs             0.025028  0.038296            0.000412 -0.010433   \n",
       "juice bars              0.097164  0.151657            0.004632 -0.018755   \n",
       "restaurants             0.012466  0.032580            0.000500 -0.003984   \n",
       "museums                 0.191345  0.137194            0.000795 -0.001261   \n",
       "resorts                 0.137194  0.291101            0.001818  0.000005   \n",
       "parks/picnic spots      0.000795  0.001818            0.000061 -0.000078   \n",
       "beaches                -0.001261  0.000005           -0.000078  0.018908   \n",
       "theaters                0.006650  0.018967            0.000242  0.008508   \n",
       "religious institutions -0.034790 -0.075966           -0.001787  0.005069   \n",
       "\n",
       "                        theaters  religious institutions  \n",
       "art galleries          -0.005640                0.005327  \n",
       "dance clubs             0.012791               -0.010108  \n",
       "juice bars             -0.024567               -0.111652  \n",
       "restaurants             0.002720               -0.031727  \n",
       "museums                 0.006650               -0.034790  \n",
       "resorts                 0.018967               -0.075966  \n",
       "parks/picnic spots      0.000242               -0.001787  \n",
       "beaches                 0.008508                0.005069  \n",
       "theaters                0.132955               -0.005353  \n",
       "religious institutions -0.005353                0.103285  "
      ]
     },
     "execution_count": 52,
     "metadata": {},
     "output_type": "execute_result"
    }
   ],
   "source": [
    "df.cov()"
   ]
  },
  {
   "cell_type": "code",
   "execution_count": 53,
   "metadata": {
    "scrolled": true
   },
   "outputs": [
    {
     "data": {
      "text/html": [
       "<div>\n",
       "<style scoped>\n",
       "    .dataframe tbody tr th:only-of-type {\n",
       "        vertical-align: middle;\n",
       "    }\n",
       "\n",
       "    .dataframe tbody tr th {\n",
       "        vertical-align: top;\n",
       "    }\n",
       "\n",
       "    .dataframe thead th {\n",
       "        text-align: right;\n",
       "    }\n",
       "</style>\n",
       "<table border=\"1\" class=\"dataframe\">\n",
       "  <thead>\n",
       "    <tr style=\"text-align: right;\">\n",
       "      <th></th>\n",
       "      <th>art galleries</th>\n",
       "      <th>dance clubs</th>\n",
       "      <th>juice bars</th>\n",
       "      <th>restaurants</th>\n",
       "      <th>museums</th>\n",
       "      <th>resorts</th>\n",
       "      <th>parks/picnic spots</th>\n",
       "      <th>beaches</th>\n",
       "      <th>theaters</th>\n",
       "      <th>religious institutions</th>\n",
       "    </tr>\n",
       "  </thead>\n",
       "  <tbody>\n",
       "    <tr>\n",
       "      <th>art galleries</th>\n",
       "      <td>1.000000</td>\n",
       "      <td>-0.187692</td>\n",
       "      <td>0.008613</td>\n",
       "      <td>0.073456</td>\n",
       "      <td>-0.100483</td>\n",
       "      <td>0.094142</td>\n",
       "      <td>-0.012474</td>\n",
       "      <td>0.020029</td>\n",
       "      <td>-0.047313</td>\n",
       "      <td>0.050700</td>\n",
       "    </tr>\n",
       "    <tr>\n",
       "      <th>dance clubs</th>\n",
       "      <td>-0.187692</td>\n",
       "      <td>1.000000</td>\n",
       "      <td>0.043586</td>\n",
       "      <td>0.131624</td>\n",
       "      <td>0.119631</td>\n",
       "      <td>0.148404</td>\n",
       "      <td>0.110052</td>\n",
       "      <td>-0.158642</td>\n",
       "      <td>0.073342</td>\n",
       "      <td>-0.065762</td>\n",
       "    </tr>\n",
       "    <tr>\n",
       "      <th>juice bars</th>\n",
       "      <td>0.008613</td>\n",
       "      <td>0.043586</td>\n",
       "      <td>1.000000</td>\n",
       "      <td>0.061128</td>\n",
       "      <td>0.281668</td>\n",
       "      <td>0.356435</td>\n",
       "      <td>0.750651</td>\n",
       "      <td>-0.172953</td>\n",
       "      <td>-0.085435</td>\n",
       "      <td>-0.440543</td>\n",
       "    </tr>\n",
       "    <tr>\n",
       "      <th>restaurants</th>\n",
       "      <td>0.073456</td>\n",
       "      <td>0.131624</td>\n",
       "      <td>0.061128</td>\n",
       "      <td>1.000000</td>\n",
       "      <td>0.101878</td>\n",
       "      <td>0.215866</td>\n",
       "      <td>0.228348</td>\n",
       "      <td>-0.103583</td>\n",
       "      <td>0.026670</td>\n",
       "      <td>-0.352909</td>\n",
       "    </tr>\n",
       "    <tr>\n",
       "      <th>museums</th>\n",
       "      <td>-0.100483</td>\n",
       "      <td>0.119631</td>\n",
       "      <td>0.281668</td>\n",
       "      <td>0.101878</td>\n",
       "      <td>1.000000</td>\n",
       "      <td>0.581306</td>\n",
       "      <td>0.232318</td>\n",
       "      <td>-0.020957</td>\n",
       "      <td>0.041693</td>\n",
       "      <td>-0.247470</td>\n",
       "    </tr>\n",
       "    <tr>\n",
       "      <th>resorts</th>\n",
       "      <td>0.094142</td>\n",
       "      <td>0.148404</td>\n",
       "      <td>0.356435</td>\n",
       "      <td>0.215866</td>\n",
       "      <td>0.581306</td>\n",
       "      <td>1.000000</td>\n",
       "      <td>0.430743</td>\n",
       "      <td>0.000071</td>\n",
       "      <td>0.096410</td>\n",
       "      <td>-0.438104</td>\n",
       "    </tr>\n",
       "    <tr>\n",
       "      <th>parks/picnic spots</th>\n",
       "      <td>-0.012474</td>\n",
       "      <td>0.110052</td>\n",
       "      <td>0.750651</td>\n",
       "      <td>0.228348</td>\n",
       "      <td>0.232318</td>\n",
       "      <td>0.430743</td>\n",
       "      <td>1.000000</td>\n",
       "      <td>-0.072492</td>\n",
       "      <td>0.084965</td>\n",
       "      <td>-0.710731</td>\n",
       "    </tr>\n",
       "    <tr>\n",
       "      <th>beaches</th>\n",
       "      <td>0.020029</td>\n",
       "      <td>-0.158642</td>\n",
       "      <td>-0.172953</td>\n",
       "      <td>-0.103583</td>\n",
       "      <td>-0.020957</td>\n",
       "      <td>0.000071</td>\n",
       "      <td>-0.072492</td>\n",
       "      <td>1.000000</td>\n",
       "      <td>0.169695</td>\n",
       "      <td>0.114701</td>\n",
       "    </tr>\n",
       "    <tr>\n",
       "      <th>theaters</th>\n",
       "      <td>-0.047313</td>\n",
       "      <td>0.073342</td>\n",
       "      <td>-0.085435</td>\n",
       "      <td>0.026670</td>\n",
       "      <td>0.041693</td>\n",
       "      <td>0.096410</td>\n",
       "      <td>0.084965</td>\n",
       "      <td>0.169695</td>\n",
       "      <td>1.000000</td>\n",
       "      <td>-0.045682</td>\n",
       "    </tr>\n",
       "    <tr>\n",
       "      <th>religious institutions</th>\n",
       "      <td>0.050700</td>\n",
       "      <td>-0.065762</td>\n",
       "      <td>-0.440543</td>\n",
       "      <td>-0.352909</td>\n",
       "      <td>-0.247470</td>\n",
       "      <td>-0.438104</td>\n",
       "      <td>-0.710731</td>\n",
       "      <td>0.114701</td>\n",
       "      <td>-0.045682</td>\n",
       "      <td>1.000000</td>\n",
       "    </tr>\n",
       "  </tbody>\n",
       "</table>\n",
       "</div>"
      ],
      "text/plain": [
       "                        art galleries  dance clubs  juice bars  restaurants  \\\n",
       "art galleries                1.000000    -0.187692    0.008613     0.073456   \n",
       "dance clubs                 -0.187692     1.000000    0.043586     0.131624   \n",
       "juice bars                   0.008613     0.043586    1.000000     0.061128   \n",
       "restaurants                  0.073456     0.131624    0.061128     1.000000   \n",
       "museums                     -0.100483     0.119631    0.281668     0.101878   \n",
       "resorts                      0.094142     0.148404    0.356435     0.215866   \n",
       "parks/picnic spots          -0.012474     0.110052    0.750651     0.228348   \n",
       "beaches                      0.020029    -0.158642   -0.172953    -0.103583   \n",
       "theaters                    -0.047313     0.073342   -0.085435     0.026670   \n",
       "religious institutions       0.050700    -0.065762   -0.440543    -0.352909   \n",
       "\n",
       "                         museums   resorts  parks/picnic spots   beaches  \\\n",
       "art galleries          -0.100483  0.094142           -0.012474  0.020029   \n",
       "dance clubs             0.119631  0.148404            0.110052 -0.158642   \n",
       "juice bars              0.281668  0.356435            0.750651 -0.172953   \n",
       "restaurants             0.101878  0.215866            0.228348 -0.103583   \n",
       "museums                 1.000000  0.581306            0.232318 -0.020957   \n",
       "resorts                 0.581306  1.000000            0.430743  0.000071   \n",
       "parks/picnic spots      0.232318  0.430743            1.000000 -0.072492   \n",
       "beaches                -0.020957  0.000071           -0.072492  1.000000   \n",
       "theaters                0.041693  0.096410            0.084965  0.169695   \n",
       "religious institutions -0.247470 -0.438104           -0.710731  0.114701   \n",
       "\n",
       "                        theaters  religious institutions  \n",
       "art galleries          -0.047313                0.050700  \n",
       "dance clubs             0.073342               -0.065762  \n",
       "juice bars             -0.085435               -0.440543  \n",
       "restaurants             0.026670               -0.352909  \n",
       "museums                 0.041693               -0.247470  \n",
       "resorts                 0.096410               -0.438104  \n",
       "parks/picnic spots      0.084965               -0.710731  \n",
       "beaches                 0.169695                0.114701  \n",
       "theaters                1.000000               -0.045682  \n",
       "religious institutions -0.045682                1.000000  "
      ]
     },
     "execution_count": 53,
     "metadata": {},
     "output_type": "execute_result"
    }
   ],
   "source": [
    "df.corr()"
   ]
  },
  {
   "cell_type": "code",
   "execution_count": 55,
   "metadata": {},
   "outputs": [
    {
     "data": {
      "image/png": "[encoded data removed]",
      "text/plain": [
       "<Figure size 432x288 with 1 Axes>"
      ]
     },
     "metadata": {
      "needs_background": "light"
     },
     "output_type": "display_data"
    }
   ],
   "source": [
    "(n, bins, patches) = plt.hist(df['restaurants'], bins=10)"
   ]
  },
  {
   "cell_type": "code",
   "execution_count": 57,
   "metadata": {},
   "outputs": [
    {
     "data": {
      "image/png": "[encoded data removed]",
      "text/plain": [
       "<Figure size 432x288 with 1 Axes>"
      ]
     },
     "metadata": {
      "needs_background": "light"
     },
     "output_type": "display_data"
    }
   ],
   "source": [
    "(n, bins, patches) = plt.hist(df['museums'], bins=10)"
   ]
  },
  {
   "cell_type": "code",
   "execution_count": 58,
   "metadata": {},
   "outputs": [
    {
     "data": {
      "text/plain": [
       "<matplotlib.axes._subplots.AxesSubplot at 0x127f3fd68>"
      ]
     },
     "execution_count": 58,
     "metadata": {},
     "output_type": "execute_result"
    },
    {
     "data": {
      "image/png": "[encoded data removed]",
      "text/plain": [
       "<Figure size 1080x720 with 1 Axes>"
      ]
     },
     "metadata": {
      "needs_background": "light"
     },
     "output_type": "display_data"
    }
   ],
   "source": [
    "cols = ['art galleries',\n",
    "'dance clubs',\n",
    "'juice bars',\n",
    "'restaurants',\n",
    "'museums',\n",
    "'resorts',\n",
    "'parks/picnic spots',\n",
    "'beaches', \n",
    "'theaters',\n",
    "'religious institutions']\n",
    "plt.figure(figsize=(15,10))\n",
    "boxprops = dict(linestyle='-', linewidth=3)\n",
    "medianprops = dict(linestyle='-', linewidth=2.5, color='firebrick')\n",
    "df.boxplot(column=cols,showmeans=True, whis=[5,95], boxprops=boxprops,medianprops=medianprops)"
   ]
  },
  {
   "cell_type": "code",
   "execution_count": 73,
   "metadata": {},
   "outputs": [
    {
     "data": {
      "text/plain": [
       "<matplotlib.axes._subplots.AxesSubplot at 0x128d0f898>"
      ]
     },
     "execution_count": 73,
     "metadata": {},
     "output_type": "execute_result"
    },
    {
     "data": {
      "image/png": "[encoded data removed]",
      "text/plain": [
       "<Figure size 432x288 with 1 Axes>"
      ]
     },
     "metadata": {
      "needs_background": "light"
     },
     "output_type": "display_data"
    }
   ],
   "source": [
    "df.plot.scatter(x='religious institutions', y='parks/picnic spots', c='DarkBlue')"
   ]
  },
  {
   "cell_type": "code",
   "execution_count": null,
   "metadata": {},
   "outputs": [],
   "source": []
  }
 ],
 "metadata": {
  "anaconda-cloud": {},
  "kernelspec": {
   "display_name": "Python 3",
   "language": "python",
   "name": "python3"
  },
  "language_info": {
   "codemirror_mode": {
    "name": "ipython",
    "version": 3
   },
   "file_extension": ".py",
   "mimetype": "text/x-python",
   "name": "python",
   "nbconvert_exporter": "python",
   "pygments_lexer": "ipython3",
   "version": "3.7.0"
  }
 },
 "nbformat": 4,
 "nbformat_minor": 1
}
