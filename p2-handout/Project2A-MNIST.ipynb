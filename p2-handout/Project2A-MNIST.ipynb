{
 "cells": [
  {
   "cell_type": "code",
   "execution_count": 4,
   "metadata": {},
   "outputs": [],
   "source": [
    "%matplotlib inline\n",
    "import pandas as pd\n",
    "import numpy as np\n",
    "import sklearn as skl\n",
    "import matplotlib.pyplot as plt"
   ]
  },
  {
   "cell_type": "markdown",
   "metadata": {},
   "source": [
    "## Project 2A: MNIST\n",
    "\n",
    "In this assignment, you will be working with MNIST dataset to train a handwriting digit classifier.\n",
    "\n",
    "<img src=\"mnistExamples.png\">"
   ]
  },
  {
   "cell_type": "markdown",
   "metadata": {},
   "source": [
    "### Part I: kNN classifiers for MNIST \n",
    "\n",
    "You will train kNN classifiers for multiple values of $k$ and then choose the classifer with the lowest validation error as your final classifier."
   ]
  },
  {
   "cell_type": "code",
   "execution_count": 22,
   "metadata": {},
   "outputs": [
    {
     "name": "stdout",
     "output_type": "stream",
     "text": [
      "(70000, 784)\n",
      "(5000, 784) (5000,)\n"
     ]
    }
   ],
   "source": [
    "from sklearn.datasets import fetch_openml\n",
    "from sklearn.utils import shuffle\n",
    "mnist = fetch_openml('mnist_784', version=1)\n",
    "X_digits, Y_digits = shuffle(mnist.data, mnist.target) # shuffle dataset (which is ordered!)\n",
    "\n",
    "# choose only 5000  \n",
    "X_digits = X_digits[-5000:,:] \n",
    "Y_digits = Y_digits[-5000:]\n",
    "\n",
    "print(mnist.data.shape)\n",
    "print(X_digits.shape, Y_digits.shape)"
   ]
  },
  {
   "cell_type": "code",
   "execution_count": 6,
   "metadata": {},
   "outputs": [
    {
     "name": "stdout",
     "output_type": "stream",
     "text": [
      "(784,)\n",
      "8\n"
     ]
    },
    {
     "data": {
      "text/plain": [
       "<matplotlib.image.AxesImage at 0x137d432e8>"
      ]
     },
     "execution_count": 6,
     "metadata": {},
     "output_type": "execute_result"
    },
    {
     "data": {
      "image/png": "[encoded data removed]",
      "text/plain": [
       "<Figure size 432x288 with 1 Axes>"
      ]
     },
     "metadata": {
      "needs_background": "light"
     },
     "output_type": "display_data"
    }
   ],
   "source": [
    "print(X_digits[0,:].shape)\n",
    "print(Y_digits[0])\n",
    "plt.imshow(np.reshape(X_digits[0,:],(28,28)),cmap='gray')"
   ]
  },
  {
   "cell_type": "markdown",
   "metadata": {},
   "source": [
    "#### 1. Prepare the train/validate/test data.\n",
    "First step, split the dataset into 60% training data, 20% validation data, and 20% test data"
   ]
  },
  {
   "cell_type": "code",
   "execution_count": 7,
   "metadata": {},
   "outputs": [],
   "source": [
    "from sklearn.model_selection import train_test_split\n",
    "\n",
    "\n",
    "X_tv, X_test, Y_tv, Y_test = train_test_split(\n",
    "    X_digits, Y_digits, test_size=0.2, random_state=0)\n",
    "\n",
    "X_train, X_val, Y_train, Y_val = train_test_split(\n",
    "    X_tv, Y_tv, test_size=0.2, random_state=0)\n"
   ]
  },
  {
   "cell_type": "code",
   "execution_count": 8,
   "metadata": {},
   "outputs": [
    {
     "name": "stdout",
     "output_type": "stream",
     "text": [
      "(3200, 784)\n",
      "(1000, 784)\n",
      "(800, 784)\n"
     ]
    }
   ],
   "source": [
    "print(X_train.shape)\n",
    "print(X_test.shape)\n",
    "print(X_val.shape)"
   ]
  },
  {
   "cell_type": "markdown",
   "metadata": {},
   "source": [
    "#### 2. Train kNN classifiers\n",
    "For each value of $k \\in [2,20]$, train a kNN classifier with Euclidean distance (L1). Plot out validation error for $k$. **Plot out the validation error for each value of k.** "
   ]
  },
  {
   "cell_type": "code",
   "execution_count": 16,
   "metadata": {},
   "outputs": [],
   "source": [
    "from sklearn import neighbors\n",
    "\n",
    "errors = []\n",
    "krange = np.arange(2,21)\n",
    "for k in krange:\n",
    "    clf = neighbors.KNeighborsClassifier(k)\n",
    "    clf.fit(X_train, Y_train)\n",
    "    errors.append(sum(clf.predict(X_val) != Y_val)/float(len(Y_val)))"
   ]
  },
  {
   "cell_type": "code",
   "execution_count": 17,
   "metadata": {},
   "outputs": [
    {
     "data": {
      "image/png": "[encoded data removed]",
      "text/plain": [
       "<Figure size 720x576 with 1 Axes>"
      ]
     },
     "metadata": {
      "needs_background": "light"
     },
     "output_type": "display_data"
    }
   ],
   "source": [
    "fig = plt.figure(figsize=(10,8))\n",
    "ax = fig.gca()\n",
    "ax.plot(krange,errors)\n",
    "ax.set_xticks(krange)\n",
    "ax.set_xlabel('k')\n",
    "ax.set_ylabel('validation error')\n",
    "ax.grid()\n",
    "#ax.set_xlim(220,280)"
   ]
  },
  {
   "cell_type": "markdown",
   "metadata": {},
   "source": [
    "From the plot, we choose k = 3 or 5"
   ]
  },
  {
   "cell_type": "code",
   "execution_count": 18,
   "metadata": {},
   "outputs": [
    {
     "name": "stdout",
     "output_type": "stream",
     "text": [
      "error rate = 0.081000\n"
     ]
    }
   ],
   "source": [
    "k = 3\n",
    "clf = neighbors.KNeighborsClassifier(k)\n",
    "clf.fit(X_train, Y_train)\n",
    "\n",
    "error_rate = sum(clf.predict(X_test) != Y_test)/float(len(Y_test))\n",
    "print(\"error rate = %f\" % error_rate)"
   ]
  },
  {
   "cell_type": "code",
   "execution_count": 19,
   "metadata": {},
   "outputs": [
    {
     "name": "stdout",
     "output_type": "stream",
     "text": [
      "error rate = 0.080000\n"
     ]
    }
   ],
   "source": [
    "k = 5\n",
    "clf = neighbors.KNeighborsClassifier(k)\n",
    "clf.fit(X_train, Y_train)\n",
    "\n",
    "error_rate = sum(clf.predict(X_test) != Y_test)/float(len(Y_test))\n",
    "print(\"error rate = %f\" % error_rate)"
   ]
  },
  {
   "cell_type": "markdown",
   "metadata": {},
   "source": [
    "#### 3. Test and analyze \n",
    "Choose the classifier with lowest validation error from previous part. Calculate the **confusion matrix**, along with the test accuracy and, for each class, test precision/recall as shown in the example below. You don't have to match the output exactly but you need to show same amount of information \n",
    "\n",
    "<img width=\"400px\" src=\"mnist_conf_mat.png\">\n"
   ]
  },
  {
   "cell_type": "code",
   "execution_count": null,
   "metadata": {
    "collapsed": true
   },
   "outputs": [],
   "source": []
  },
  {
   "cell_type": "markdown",
   "metadata": {},
   "source": [
    "Also, show example images of **mistakes** your classifier made.\n",
    "\n",
    "<img width=\"200px\" src=\"mistakes.png\">\n",
    "\n"
   ]
  },
  {
   "cell_type": "code",
   "execution_count": null,
   "metadata": {
    "collapsed": true
   },
   "outputs": [],
   "source": []
  },
  {
   "cell_type": "markdown",
   "metadata": {},
   "source": [
    "### Part II: Logistic Regression, Decision Tree, Perceptron and SVM \n",
    "\n",
    "In this part, we consider a binary classification problem, \"odd vs even\". You will train a **logistic regression classifier**, a **decision tree**, a **perceptron** and a **SVM** that predicts \"even\" or \"odd\" given an instance from MNIST dataset."
   ]
  },
  {
   "cell_type": "markdown",
   "metadata": {},
   "source": [
    "#### 1. Prepare the training data and train the classifier"
   ]
  },
  {
   "cell_type": "code",
   "execution_count": null,
   "metadata": {
    "collapsed": true
   },
   "outputs": [],
   "source": []
  },
  {
   "cell_type": "markdown",
   "metadata": {},
   "source": [
    "#### 2. Test your classifiers\n",
    "\n",
    "For each classifier, calculate the **confusion matrix**, along with the **test accuracy/precision/recall/f1-score** of your classifier. You only need to do this for 1 test set.\n"
   ]
  },
  {
   "cell_type": "code",
   "execution_count": null,
   "metadata": {},
   "outputs": [],
   "source": []
  },
  {
   "cell_type": "markdown",
   "metadata": {},
   "source": [
    "#### 3. Selected mistakes\n",
    "Display some examples of mistakes made by each of your classifiers."
   ]
  },
  {
   "cell_type": "code",
   "execution_count": null,
   "metadata": {
    "collapsed": true
   },
   "outputs": [],
   "source": []
  },
  {
   "cell_type": "markdown",
   "metadata": {},
   "source": [
    "#### 4. Cross validation\n",
    "\n",
    "Perform cross validation on each classifier and report the average accuracy and its standard deviation. Use a boxplot to compare different classifiers."
   ]
  },
  {
   "cell_type": "code",
   "execution_count": null,
   "metadata": {
    "collapsed": true
   },
   "outputs": [],
   "source": []
  }
 ],
 "metadata": {
  "kernelspec": {
   "display_name": "Python 3",
   "language": "python",
   "name": "python3"
  },
  "language_info": {
   "codemirror_mode": {
    "name": "ipython",
    "version": 3
   },
   "file_extension": ".py",
   "mimetype": "text/x-python",
   "name": "python",
   "nbconvert_exporter": "python",
   "pygments_lexer": "ipython3",
   "version": "3.7.0"
  }
 },
 "nbformat": 4,
 "nbformat_minor": 2
}
