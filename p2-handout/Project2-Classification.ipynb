{
 "cells": [
  {
   "cell_type": "markdown",
   "metadata": {},
   "source": [
    "# Project 2: Classification\n",
    "\n",
    "Last update: Feb 26, 2019\n",
    "\n",
    "In this project, you will be working on classification problems. There are 2 parts to this project. The first part is an individual assignment and the second part is a group assignment.\n",
    "\n",
    "\n",
    "## Part A: MNIST\n",
    "\n",
    "Complete the following notebook: [Project2A-MNIST](Project2A-MNIST.ipynb)\n",
    "\n",
    "\n",
    "## Part B: Stock Prediction\n",
    "\n",
    "Complete the following notebook: [Project2B-Stock-market-prediction](Project2B-Stock-market-prediction.ipynb)\n",
    "\n",
    "## Submission\n",
    "\n",
    "1. Part A is individual assignment. Everyone have to submit their own work on Canvas by **March 12**.\n",
    "1. Part B is a group assignment. Maximum team of 2. You will be presenting this part to the instructor on **March 12**.\n"
   ]
  },
  {
   "cell_type": "code",
   "execution_count": null,
   "metadata": {},
   "outputs": [],
   "source": []
  }
 ],
 "metadata": {
  "kernelspec": {
   "display_name": "Python 3",
   "language": "python",
   "name": "python3"
  },
  "language_info": {
   "codemirror_mode": {
    "name": "ipython",
    "version": 3
   },
   "file_extension": ".py",
   "mimetype": "text/x-python",
   "name": "python",
   "nbconvert_exporter": "python",
   "pygments_lexer": "ipython3",
   "version": "3.7.0"
  }
 },
 "nbformat": 4,
 "nbformat_minor": 2
}
